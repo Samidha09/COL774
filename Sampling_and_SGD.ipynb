{
 "cells": [
  {
   "cell_type": "code",
   "execution_count": 1,
   "metadata": {},
   "outputs": [],
   "source": [
    "import numpy as np\n",
    "import math"
   ]
  },
  {
   "cell_type": "code",
   "execution_count": 7,
   "metadata": {},
   "outputs": [],
   "source": [
    "np.random.seed(0)"
   ]
  },
  {
   "cell_type": "markdown",
   "metadata": {},
   "source": [
    "### PART A"
   ]
  },
  {
   "cell_type": "code",
   "execution_count": 8,
   "metadata": {},
   "outputs": [],
   "source": [
    "def sample_data():\n",
    "    m = 100 #number of data points\n",
    "    theta = np.array([[3], [1], [2]]) #given\n",
    "    mu_1, sigma_1 = 3, 2\n",
    "    mu_2, sigma_2 = -1, 2\n",
    "    # examples : X values\n",
    "    x_0 = np.zeros(m)\n",
    "    x_1 = np.random.normal(mu_1, sigma_1, m)\n",
    "    x_2 = np.random.normal(mu_2, sigma_2, m)\n",
    "    X = np.row_stack((x_2,x_1,x_0)) # making design matrix\n",
    "    # examples: Y values\n",
    "    sigma_3 = math.sqrt(2)\n",
    "    Y = [] #np.random.normal(mu_3, sigma_3, m)\n",
    "    for i in range(m):\n",
    "        X_i = X.T[i]\n",
    "        mu_3 = np.dot(theta.T, X_i)\n",
    "        Y.append(np.random.normal(mu_3, sigma_3))\n",
    "    Y = np.array(Y)\n",
    "    return X, Y"
   ]
  },
  {
   "cell_type": "code",
   "execution_count": 9,
   "metadata": {},
   "outputs": [
    {
     "name": "stdout",
     "output_type": "stream",
     "text": [
      "(3, 100) (100, 1)\n"
     ]
    }
   ],
   "source": [
    "print(X.shape, Y.shape)"
   ]
  },
  {
   "cell_type": "markdown",
   "metadata": {},
   "source": [
    "### PART B"
   ]
  },
  {
   "cell_type": "code",
   "execution_count": null,
   "metadata": {},
   "outputs": [],
   "source": [
    "# function to calculate J(theta)\n",
    "def cost_function(Y, theta, X):\n",
    "    #number of examples for taking average\n",
    "    m = X.shape[1]\n",
    "    Y_hat = np.dot(X.T, theta)\n",
    "    #computing mse loss\n",
    "    J_theta = (1/(2*m)) * np.sum((Y - Y_hat)**2, axis=0)\n",
    "    return J_theta"
   ]
  },
  {
   "cell_type": "code",
   "execution_count": null,
   "metadata": {},
   "outputs": [],
   "source": [
    "# function to calculate gradient\n",
    "def gradient(theta, X, Y):\n",
    "    #number of examples for taking average\n",
    "    m = X.shape[1]\n",
    "    Y_hat = np.dot(X.T, theta)\n",
    "    #computing gradient of mse loss\n",
    "    grad_vector = (-1/m)* np.dot(X,(Y - Y_hat))\n",
    "    return grad_vector"
   ]
  },
  {
   "cell_type": "code",
   "execution_count": null,
   "metadata": {},
   "outputs": [],
   "source": [
    "def SGD(X, Y, learning_rate, r):\n",
    "    theta"
   ]
  },
  {
   "cell_type": "markdown",
   "metadata": {},
   "source": [
    "### PART C"
   ]
  },
  {
   "cell_type": "code",
   "execution_count": null,
   "metadata": {},
   "outputs": [],
   "source": [
    "def test(final_theta_dict):\n",
    "    return 0"
   ]
  },
  {
   "cell_type": "markdown",
   "metadata": {},
   "source": [
    "### PART D"
   ]
  },
  {
   "cell_type": "code",
   "execution_count": null,
   "metadata": {},
   "outputs": [],
   "source": [
    "def plot(parameter_dict):\n",
    "    return 0"
   ]
  },
  {
   "cell_type": "markdown",
   "metadata": {},
   "source": [
    "### Main function"
   ]
  },
  {
   "cell_type": "code",
   "execution_count": null,
   "metadata": {},
   "outputs": [],
   "source": [
    "def main():\n",
    "    #get training dataset - part(a)\n",
    "    X, Y = sample_data()\n",
    "    #part(b) SGD\n",
    "    learning_rate = 0.001\n",
    "    batch_sizes = [1, 100, 10000, 1000000]\n",
    "    final_theta_dict = {} #key:batch_size, val: list of parameters, num_iterations_for_convergence\n",
    "    parameter_dict = {} #key:batch_size, val: list of list(1*3) of parameters\n",
    "    num_iter_dict = {} #key:batch_size, val: num_iterations_for_convergence\n",
    "    \n",
    "    for batch_size in batch_sizes:\n",
    "        final_theta_dict[batch_size],  parameter_dict[batch_size], num_iter_dict[batch_size] = SGD(X, Y, learning_rate, batch_size)\n",
    "    \n",
    "    #part(c) Test\n",
    "    test_error = test(final_theta_dict) #dictionary, key:batch_size, value:mse error n test data\n",
    "    #part(d) Plot\n",
    "    plot(parameter_dict)"
   ]
  }
 ],
 "metadata": {
  "kernelspec": {
   "display_name": "Python 3",
   "language": "python",
   "name": "python3"
  },
  "language_info": {
   "codemirror_mode": {
    "name": "ipython",
    "version": 3
   },
   "file_extension": ".py",
   "mimetype": "text/x-python",
   "name": "python",
   "nbconvert_exporter": "python",
   "pygments_lexer": "ipython3",
   "version": "3.8.3"
  }
 },
 "nbformat": 4,
 "nbformat_minor": 4
}
